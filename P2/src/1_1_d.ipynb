{
 "cells": [
  {
   "cell_type": "markdown",
   "metadata": {},
   "source": [
    "# Import"
   ]
  },
  {
   "cell_type": "code",
   "execution_count": 7,
   "metadata": {},
   "outputs": [],
   "source": [
    "import numpy as np\n",
    "from scipy.integrate import quad\n",
    "import numpy as np\n",
    "from sklearn.base import BaseEstimator\n",
    "from sklearn.base import ClassifierMixin\n",
    "from sklearn.metrics import zero_one_loss\n",
    "import sys\n",
    "\n",
    "sys.path.insert(0, 'python/')\n",
    "from python.data import make_balanced_dataset, make_unbalanced_dataset\n",
    "from python.plot import plot_boundary"
   ]
  },
  {
   "cell_type": "markdown",
   "metadata": {},
   "source": [
    "# Bayes Model"
   ]
  },
  {
   "cell_type": "code",
   "execution_count": 8,
   "metadata": {},
   "outputs": [],
   "source": [
    "\n",
    "class BayesModel(BaseEstimator, ClassifierMixin):\n",
    "    def __init__(self):\n",
    "        pass\n",
    "\n",
    "    def predict(self, X):\n",
    "        \"\"\"Predict class for X.\n",
    "\n",
    "        Parameters\n",
    "        ----------\n",
    "        X : array-like of shape = [n_samples, n_features]\n",
    "            The input samples.\n",
    "\n",
    "        Returns\n",
    "        -------\n",
    "        y : array of shape = [n_samples]\n",
    "            The predicted classes, or the predict values.\n",
    "        \"\"\"\n",
    "        # Input validation\n",
    "        X = np.asarray(X, dtype=np.float)\n",
    "\n",
    "        if X.ndim != 2:\n",
    "            raise ValueError(\"X must be 2 dimensional\")\n",
    "        n_instances, n_features = X.shape\n",
    "\n",
    "        y = np.ones(n_instances)\n",
    "        std = 1.6**2\n",
    "        for i, sample in enumerate(X):\n",
    "            y[i] = (sample[0] + sample[1] <= -std/3 * np.math.log(0.75/0.25))\n",
    "\n",
    "        # y = np.array(y > 0.0, dtype=int)\n",
    "\n",
    "        return y"
   ]
  },
  {
   "cell_type": "markdown",
   "metadata": {},
   "source": [
    "# Estimate $ E_{x_1, x_2, y}\\{\\boldsymbol{1}(y\\neq h_B(x_1, x_2))\\}$ with σ = 1.6"
   ]
  },
  {
   "cell_type": "code",
   "execution_count": 9,
   "metadata": {},
   "outputs": [
    {
     "name": "stdout",
     "output_type": "stream",
     "text": [
      "0.07594122588180544\n"
     ]
    }
   ],
   "source": [
    "\n",
    "\n",
    "sigma_2 = 1.6**2\n",
    "\n",
    "lower_bound_positive = (-sigma_2)/3 * np.log(0.75/0.25)\n",
    "upper_bound_positive = np.inf\n",
    "\n",
    "lower_bound_negative = -np.inf\n",
    "upper_bound_negative = (-sigma_2)/3 * np.log(0.75/0.25)\n",
    "\n",
    "mu_positive = -3\n",
    "mu_negative = 3\n",
    "\n",
    "f_positive = lambda t: np.exp(-1/2 * ((t - mu_positive)/(np.sqrt(2*sigma_2)))**2)\n",
    "f_negative = lambda t: np.exp(-1/2 * ((t - mu_negative)/(np.sqrt(2*sigma_2)))**2)\n",
    "\n",
    "p_y_0 = 1/(np.sqrt(2*sigma_2) * np.sqrt(2*np.pi)) * quad(f_negative, lower_bound_negative, upper_bound_negative)[0]\n",
    "p_y_1 = 1/(np.sqrt(2*sigma_2) * np.sqrt(2*np.pi)) * quad(f_positive, lower_bound_positive, upper_bound_positive)[0]\n",
    "\n",
    "print(p_y_0 * 0.75 + p_y_1 * 0.25)"
   ]
  },
  {
   "cell_type": "markdown",
   "metadata": {},
   "source": [
    "#  $E_{x_1, x_2, y}\\{\\boldsymbol{1}(y\\neq h_B(x_1, x_2))\\}$ computed empirically"
   ]
  },
  {
   "cell_type": "code",
   "execution_count": 10,
   "metadata": {},
   "outputs": [
    {
     "data": {
      "text/plain": [
       "0.07599999999999996"
      ]
     },
     "execution_count": 10,
     "metadata": {},
     "output_type": "execute_result"
    }
   ],
   "source": [
    "X, y = make_unbalanced_dataset(100000, random_state=42)\n",
    "bayes = BayesModel()\n",
    "\n",
    "y_pred = bayes.predict(X)\n",
    "zero_one_loss(y_pred, y)"
   ]
  },
  {
   "cell_type": "code",
   "execution_count": null,
   "metadata": {},
   "outputs": [],
   "source": []
  }
 ],
 "metadata": {
  "interpreter": {
   "hash": "ab506c54e6c17d8f79536a2d17ae8efc1e1832069b7e1017a1d4a6cb95708c0f"
  },
  "kernelspec": {
   "display_name": "Python 3.7.10 64-bit ('AI': conda)",
   "name": "python3"
  },
  "language_info": {
   "codemirror_mode": {
    "name": "ipython",
    "version": 3
   },
   "file_extension": ".py",
   "mimetype": "text/x-python",
   "name": "python",
   "nbconvert_exporter": "python",
   "pygments_lexer": "ipython3",
   "version": "3.7.10"
  },
  "orig_nbformat": 4
 },
 "nbformat": 4,
 "nbformat_minor": 2
}
