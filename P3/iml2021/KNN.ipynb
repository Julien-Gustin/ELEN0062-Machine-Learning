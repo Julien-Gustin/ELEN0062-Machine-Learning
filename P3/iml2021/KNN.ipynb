{
 "cells": [
  {
   "cell_type": "code",
   "execution_count": 1,
   "metadata": {},
   "outputs": [],
   "source": [
    "import numpy as np\n",
    "from sklearn.pipeline import Pipeline\n",
    "from python.utils import load_data, get_features_from \n",
    "import numpy as np\n",
    "from sklearn.preprocessing import StandardScaler\n",
    "from sklearn.neighbors import KNeighborsClassifier\n",
    "from sklearn.model_selection import cross_validate\n",
    "from sklearn.model_selection import GridSearchCV\n",
    "from sklearn.impute import SimpleImputer\n",
    "from python.features_extraction import ExtractFeatures\n",
    "from sklearn.model_selection import GroupKFold\n",
    "import matplotlib.pyplot as plt"
   ]
  },
  {
   "cell_type": "code",
   "execution_count": 2,
   "metadata": {},
   "outputs": [],
   "source": [
    "fc_parameters = {\n",
    "    \"abs_energy\": None,\n",
    "    \"maximum\": None,\n",
    "    \"absolute_sum_of_changes\": None,\n",
    "    \"fft_coefficient\": [{\"coeff\": 20, \"attr\": \"real\"}],\n",
    "    \"fourier_entropy\": [{\"bins\": 10}],\n",
    "    \"linear_trend\": [{\"attr\": \"slope\"}],\n",
    "    \"mean\": None,\n",
    "    \"number_peaks\": [{\"n\":4}],\n",
    "    \"variance\": None,\n",
    "}"
   ]
  },
  {
   "cell_type": "code",
   "execution_count": 5,
   "metadata": {},
   "outputs": [
    {
     "name": "stdout",
     "output_type": "stream",
     "text": [
      "X_train size: (3500, 15872).\n",
      "y_train size: (3500,).\n",
      "X_test size: (3500, 15872).\n"
     ]
    }
   ],
   "source": [
    "DATA_PATH = 'data'\n",
    "X_train, y_train, X_test, subjects = load_data(DATA_PATH)"
   ]
  },
  {
   "cell_type": "code",
   "execution_count": 148,
   "metadata": {},
   "outputs": [],
   "source": [
    "X_train_fe = get_features_from(folder=\"LS/not_scaled\")\n",
    "X_test_fe = get_features_from(folder=\"TS/not_scaled\")"
   ]
  },
  {
   "cell_type": "code",
   "execution_count": null,
   "metadata": {},
   "outputs": [],
   "source": [
    "pre_process = Pipeline([\n",
    "    (\"si\", SimpleImputer(missing_values=-999999.99, strategy=\"mean\")),\n",
    "    (\"pp\", ExtractFeatures(fc_parameters)),\n",
    "    (\"si2\", SimpleImputer(missing_values=np.nan, strategy=\"mean\")),\n",
    "    (\"ss\", StandardScaler())\n",
    "])"
   ]
  },
  {
   "cell_type": "code",
   "execution_count": 220,
   "metadata": {},
   "outputs": [],
   "source": [
    "\n",
    "knn_clf = Pipeline([\n",
    "    (\"pp\", pre_process),\n",
    "    (\"knn_cls\", KNeighborsClassifier(n_neighbors=10,weights='distance', p=1))\n",
    "])"
   ]
  },
  {
   "cell_type": "code",
   "execution_count": 221,
   "metadata": {},
   "outputs": [],
   "source": [
    "cv_res = cross_validate(knn_clf, X_train_fe, y_train, groups=subjects, cv=GroupKFold(len(np.unique(subjects))), return_train_score=True,scoring=\"accuracy\")\n",
    "cv_res[\"test_score\"].mean()"
   ]
  },
  {
   "cell_type": "code",
   "execution_count": null,
   "metadata": {},
   "outputs": [],
   "source": [
    "param_grid = [\n",
    "    {\"knn_cls__n_neighbors\": [1,2,3,5,10,20],\"knn_cls__weights\": [\"uniform\",\"distance\"], \"knn_cls__leaf_size\": [30],\"knn_cls__p\":[1,2]}\n",
    "]\n",
    "\n",
    "gs = GridSearchCV(knn_clf, param_grid, cv=GroupKFold(len(np.unique(subjects))), n_jobs=-1)\n",
    "gs.fit(X_train, y_train, groups=subjects)\n",
    "\n",
    "cvres = gs.cv_results_\n",
    "for mean_score, params in zip(cvres[\"mean_test_score\"], cvres[\"params\"]):\n",
    "    print(mean_score, params)"
   ]
  },
  {
   "cell_type": "code",
   "execution_count": 185,
   "metadata": {},
   "outputs": [
    {
     "data": {
      "text/plain": [
       "0.7472162139885468"
      ]
     },
     "execution_count": 185,
     "metadata": {},
     "output_type": "execute_result"
    }
   ],
   "source": [
    "gs.best_score_"
   ]
  },
  {
   "cell_type": "code",
   "execution_count": 187,
   "metadata": {},
   "outputs": [
    {
     "data": {
      "text/plain": [
       "{'knn_cls__leaf_size': 30,\n",
       " 'knn_cls__n_neighbors': 10,\n",
       " 'knn_cls__p': 1,\n",
       " 'knn_cls__weights': 'distance'}"
      ]
     },
     "execution_count": 187,
     "metadata": {},
     "output_type": "execute_result"
    }
   ],
   "source": [
    "gs.best_params_"
   ]
  }
 ],
 "metadata": {
  "interpreter": {
   "hash": "ab506c54e6c17d8f79536a2d17ae8efc1e1832069b7e1017a1d4a6cb95708c0f"
  },
  "kernelspec": {
   "display_name": "Python 3.7.10 64-bit ('AI': conda)",
   "language": "python",
   "name": "python3"
  },
  "language_info": {
   "codemirror_mode": {
    "name": "ipython",
    "version": 3
   },
   "file_extension": ".py",
   "mimetype": "text/x-python",
   "name": "python",
   "nbconvert_exporter": "python",
   "pygments_lexer": "ipython3",
   "version": "3.8.8"
  },
  "orig_nbformat": 4
 },
 "nbformat": 4,
 "nbformat_minor": 2
}
