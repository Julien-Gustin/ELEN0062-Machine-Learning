{
 "cells": [
  {
   "cell_type": "code",
   "execution_count": 1,
   "metadata": {},
   "outputs": [],
   "source": [
    "from python.utils import load_data, extract_and_save \n",
    "from sklearn.impute import SimpleImputer"
   ]
  },
  {
   "cell_type": "markdown",
   "metadata": {},
   "source": [
    "# Use to avoid extract features for submit"
   ]
  },
  {
   "cell_type": "code",
   "execution_count": 2,
   "metadata": {},
   "outputs": [],
   "source": [
    "fc_parameters = {\n",
    "    \"abs_energy\": None,\n",
    "    \"maximum\": None,\n",
    "    \"absolute_sum_of_changes\": None,\n",
    "    \"fft_coefficient\": [{\"coeff\": 10, \"attr\": \"abs\"}],\n",
    "    \"fourier_entropy\": [{\"bins\": 10}],\n",
    "    \"linear_trend\": [{\"attr\": \"slope\"}],\n",
    "    \"mean\": None,\n",
    "    \"number_peaks\": [{\"n\":4}],\n",
    "    \"variance\": None,\n",
    "}"
   ]
  },
  {
   "cell_type": "code",
   "execution_count": 3,
   "metadata": {},
   "outputs": [
    {
     "name": "stdout",
     "output_type": "stream",
     "text": [
      "X_train size: (3500, 15872).\n",
      "y_train size: (3500,).\n",
      "X_test size: (3500, 15872).\n"
     ]
    }
   ],
   "source": [
    "DATA_PATH = 'data'\n",
    "X_train, y_train, X_test, subjects = load_data(DATA_PATH)\n",
    "X_train = SimpleImputer(missing_values=-999999.99, strategy=\"mean\").fit_transform(X_train) # Not a good way to to it but easiest"
   ]
  },
  {
   "cell_type": "code",
   "execution_count": null,
   "metadata": {},
   "outputs": [],
   "source": [
    "extract_and_save(X_train, fc_parameters, folder=\"LS/not_scaled\")\n",
    "extract_and_save(X_test, fc_parameters, folder=\"TS/not_scaled\")"
   ]
  }
 ],
 "metadata": {
  "interpreter": {
   "hash": "ab506c54e6c17d8f79536a2d17ae8efc1e1832069b7e1017a1d4a6cb95708c0f"
  },
  "kernelspec": {
   "display_name": "Python 3.7.10 64-bit ('AI': conda)",
   "language": "python",
   "name": "python3"
  },
  "language_info": {
   "codemirror_mode": {
    "name": "ipython",
    "version": 3
   },
   "file_extension": ".py",
   "mimetype": "text/x-python",
   "name": "python",
   "nbconvert_exporter": "python",
   "pygments_lexer": "ipython3",
   "version": "3.7.10"
  },
  "orig_nbformat": 4
 },
 "nbformat": 4,
 "nbformat_minor": 2
}
