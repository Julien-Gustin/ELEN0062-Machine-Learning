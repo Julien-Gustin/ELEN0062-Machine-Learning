{
 "cells": [
  {
   "cell_type": "code",
   "execution_count": 6,
   "metadata": {},
   "outputs": [],
   "source": [
    "import numpy as np\n",
    "from sklearn.pipeline import Pipeline\n",
    "from python.utils import load_data\n",
    "import numpy as np\n",
    "from sklearn.impute import SimpleImputer\n",
    "from sklearn.model_selection import GroupKFold\n",
    "from python.features_extraction import ExtractFeatures\n",
    "from sklearn.model_selection import cross_validate\n",
    "from sklearn.preprocessing import StandardScaler\n",
    "from sklearn.multiclass import OneVsRestClassifier\n",
    "from sklearn.svm import SVC"
   ]
  },
  {
   "cell_type": "code",
   "execution_count": 2,
   "metadata": {},
   "outputs": [],
   "source": [
    "fc_parameters = {\n",
    "    \"abs_energy\": None,\n",
    "    \"maximum\": None,\n",
    "    \"absolute_sum_of_changes\": None,\n",
    "    \"fft_coefficient\": [{\"coeff\": 10, \"attr\": \"abs\"}],\n",
    "    \"fourier_entropy\": [{\"bins\": 10}],\n",
    "    \"linear_trend\": [{\"attr\": \"slope\"}],\n",
    "    \"mean\": None,\n",
    "    \"number_peaks\": [{\"n\":4}],\n",
    "    \"variance\": None,\n",
    "}"
   ]
  },
  {
   "cell_type": "code",
   "execution_count": 3,
   "metadata": {},
   "outputs": [
    {
     "name": "stdout",
     "output_type": "stream",
     "text": [
      "X_train size: (3500, 15872).\n",
      "y_train size: (3500,).\n",
      "X_test size: (3500, 15872).\n"
     ]
    }
   ],
   "source": [
    "DATA_PATH = 'data'\n",
    "X_train, y_train, X_test, subjects = load_data(DATA_PATH)"
   ]
  },
  {
   "cell_type": "code",
   "execution_count": 7,
   "metadata": {},
   "outputs": [],
   "source": [
    "pre_process = Pipeline([\n",
    "    (\"si\", SimpleImputer(missing_values=-999999.99, strategy=\"mean\")),\n",
    "    (\"pp\", ExtractFeatures(fc_parameters)),\n",
    "    (\"si2\", SimpleImputer(missing_values=np.nan, strategy=\"mean\")),\n",
    "    (\"scaler\", StandardScaler()),\n",
    "])"
   ]
  },
  {
   "cell_type": "code",
   "execution_count": 8,
   "metadata": {},
   "outputs": [],
   "source": [
    "svc_model = Pipeline([\n",
    "    (\"preprocess\", pre_process),\n",
    "    (\"svc\", OneVsRestClassifier(estimator=SVC(C=0.25, kernel='poly', degree=3, coef0=2, gamma='scale'), n_jobs=2))\n",
    "])"
   ]
  },
  {
   "cell_type": "code",
   "execution_count": null,
   "metadata": {},
   "outputs": [],
   "source": [
    "cv_res = cross_validate(svc_model, X_train, y_train, groups=subjects, cv=GroupKFold(len(np.unique(subjects))), return_train_score=True, n_jobs=1, scoring=\"accuracy\")\n",
    "cv_res[\"test_score\"].mean()"
   ]
  }
 ],
 "metadata": {
  "interpreter": {
   "hash": "ab506c54e6c17d8f79536a2d17ae8efc1e1832069b7e1017a1d4a6cb95708c0f"
  },
  "kernelspec": {
   "display_name": "Python 3.7.10 64-bit ('AI': conda)",
   "language": "python",
   "name": "python3"
  },
  "language_info": {
   "codemirror_mode": {
    "name": "ipython",
    "version": 3
   },
   "file_extension": ".py",
   "mimetype": "text/x-python",
   "name": "python",
   "nbconvert_exporter": "python",
   "pygments_lexer": "ipython3",
   "version": "3.7.10"
  },
  "orig_nbformat": 4
 },
 "nbformat": 4,
 "nbformat_minor": 2
}
