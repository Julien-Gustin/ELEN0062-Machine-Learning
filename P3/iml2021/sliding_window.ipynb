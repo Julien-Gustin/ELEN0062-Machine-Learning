{
 "cells": [
  {
   "cell_type": "code",
   "execution_count": 1,
   "metadata": {},
   "outputs": [],
   "source": [
    "import numpy as np\n",
    "from sklearn.pipeline import Pipeline\n",
    "from python.utils import load_data\n",
    "from python.features_extraction import AdvancedSlidingWindowFeaturesExtractor\n",
    "import numpy as np\n",
    "from sklearn.preprocessing import StandardScaler, MinMaxScaler\n",
    "from sklearn.ensemble import RandomForestClassifier\n",
    "from sklearn.impute import SimpleImputer\n",
    "from sklearn.multiclass import OneVsRestClassifier\n",
    "from sklearn.svm import SVC\n",
    "from sklearn.model_selection import cross_val_score, GroupKFold\n",
    "from python.utils import write_submission"
   ]
  },
  {
   "cell_type": "markdown",
   "metadata": {},
   "source": [
    "# Data"
   ]
  },
  {
   "cell_type": "code",
   "execution_count": 2,
   "metadata": {},
   "outputs": [
    {
     "name": "stdout",
     "output_type": "stream",
     "text": [
      "X_train size: (3500, 15872).\n",
      "y_train size: (3500,).\n",
      "X_test size: (3500, 15872).\n"
     ]
    }
   ],
   "source": [
    "DATA_PATH = 'data'\n",
    "X_train, y_train, X_test, subjects = load_data(DATA_PATH)"
   ]
  },
  {
   "cell_type": "markdown",
   "metadata": {},
   "source": [
    "# Models"
   ]
  },
  {
   "cell_type": "code",
   "execution_count": 11,
   "metadata": {},
   "outputs": [],
   "source": [
    "from sklearn.neighbors import KNeighborsClassifier\n",
    "\n",
    "knn_clf = Pipeline([\n",
    "    (\"si\", SimpleImputer(missing_values=-999999.99, strategy=\"mean\")),\n",
    "    (\"std_scaler\", StandardScaler()),\n",
    "    (\"swfe\", AdvancedSlidingWindowFeaturesExtractor(128, 0, True, True, True, True, True, True)),\n",
    "    (\"knn\", KNeighborsClassifier())\n",
    "])"
   ]
  },
  {
   "cell_type": "code",
   "execution_count": 20,
   "metadata": {},
   "outputs": [],
   "source": [
    "from sklearn.neighbors import KNeighborsClassifier\n",
    "\n",
    "rf_clf = Pipeline([\n",
    "    (\"si\", SimpleImputer(missing_values=-999999.99, strategy=\"mean\")),\n",
    "    (\"std_scaler\", StandardScaler()),\n",
    "    (\"swfe\", AdvancedSlidingWindowFeaturesExtractor(128, 0, True, True, True, True, True, True)),\n",
    "    (\"rnf_cls\", RandomForestClassifier(random_state=42, n_estimators=500, max_features=2, bootstrap=True, max_depth=None)),\n",
    "])"
   ]
  },
  {
   "cell_type": "code",
   "execution_count": 3,
   "metadata": {},
   "outputs": [],
   "source": [
    "svc_clf = Pipeline([\n",
    "    (\"si\", SimpleImputer(missing_values=-999999.99, strategy=\"mean\")),\n",
    "    (\"std_scaler\", StandardScaler()),\n",
    "    (\"swfe\", AdvancedSlidingWindowFeaturesExtractor(128, 0, True, True, True, True, True, True)),\n",
    "    (\"svr\", OneVsRestClassifier(SVC(random_state=42, C=0.1))),\n",
    "])"
   ]
  },
  {
   "cell_type": "code",
   "execution_count": 4,
   "metadata": {},
   "outputs": [
    {
     "data": {
      "text/plain": [
       "0.7160823747714675"
      ]
     },
     "execution_count": 4,
     "metadata": {},
     "output_type": "execute_result"
    }
   ],
   "source": [
    "from sklearn.model_selection import cross_validate\n",
    "\n",
    "cv_res = cross_validate(svc_clf, X_train, y_train, groups=subjects, cv=GroupKFold(len(np.unique(subjects))), return_train_score=True)\n",
    "cv_res[\"test_score\"].mean()"
   ]
  },
  {
   "cell_type": "markdown",
   "metadata": {},
   "source": [
    "# Submit prediction"
   ]
  },
  {
   "cell_type": "code",
   "execution_count": 20,
   "metadata": {},
   "outputs": [
    {
     "name": "stdout",
     "output_type": "stream",
     "text": [
      "Submission toy_submission.csv saved in submissions/toy_submission.csv.\n"
     ]
    }
   ],
   "source": [
    "final_model = svc_clf\n",
    "final_model.fit(X_train, y_train)\n",
    "y_pred = final_model.predict(X_test)\n",
    "\n",
    "write_submission(y_pred, 'submissions')"
   ]
  }
 ],
 "metadata": {
  "interpreter": {
   "hash": "ab506c54e6c17d8f79536a2d17ae8efc1e1832069b7e1017a1d4a6cb95708c0f"
  },
  "kernelspec": {
   "display_name": "Python 3.7.10 64-bit ('AI': conda)",
   "language": "python",
   "name": "python3"
  },
  "language_info": {
   "codemirror_mode": {
    "name": "ipython",
    "version": 3
   },
   "file_extension": ".py",
   "mimetype": "text/x-python",
   "name": "python",
   "nbconvert_exporter": "python",
   "pygments_lexer": "ipython3",
   "version": "3.7.10"
  },
  "orig_nbformat": 4
 },
 "nbformat": 4,
 "nbformat_minor": 2
}
