{
 "cells": [
  {
   "cell_type": "code",
   "execution_count": 2,
   "metadata": {},
   "outputs": [],
   "source": [
    "import numpy as np\n",
    "from sklearn.pipeline import Pipeline\n",
    "from python.utils import load_data, extract_and_save, get_features_from \n",
    "import numpy as np\n",
    "from sklearn.preprocessing import StandardScaler\n",
    "from sklearn.impute import SimpleImputer\n",
    "from sklearn.model_selection import GroupKFold\n",
    "from sklearn.ensemble import AdaBoostClassifier\n",
    "from sklearn.tree import DecisionTreeClassifier\n",
    "from python.features_extraction import ExtractFeatures\n",
    "from sklearn.model_selection import cross_validate"
   ]
  },
  {
   "cell_type": "code",
   "execution_count": 3,
   "metadata": {},
   "outputs": [],
   "source": [
    "fc_parameters = {\n",
    "    \"abs_energy\": None,\n",
    "    \"maximum\": None,\n",
    "    \"absolute_sum_of_changes\": None,\n",
    "    \"fft_coefficient\": [{\"coeff\": 10, \"attr\": \"abs\"}],\n",
    "    \"fourier_entropy\": [{\"bins\": 10}],\n",
    "    \"linear_trend\": [{\"attr\": \"slope\"}],\n",
    "    \"mean\": None,\n",
    "    \"number_peaks\": [{\"n\":4}],\n",
    "    \"variance\": None,\n",
    "}"
   ]
  },
  {
   "cell_type": "code",
   "execution_count": 3,
   "metadata": {},
   "outputs": [
    {
     "name": "stdout",
     "output_type": "stream",
     "text": [
      "X_train size: (3500, 15872).\n",
      "y_train size: (3500,).\n",
      "X_test size: (3500, 15872).\n"
     ]
    }
   ],
   "source": [
    "DATA_PATH = 'data'\n",
    "X_train, y_train, X_test, subjects = load_data(DATA_PATH)"
   ]
  },
  {
   "cell_type": "code",
   "execution_count": null,
   "metadata": {},
   "outputs": [],
   "source": [
    "pre_process = Pipeline([\n",
    "    (\"si\", SimpleImputer(missing_values=-999999.99, strategy=\"mean\")),\n",
    "    (\"pp\", ExtractFeatures(fc_parameters)),\n",
    "    (\"si2\", SimpleImputer(missing_values=np.nan, strategy=\"mean\")),\n",
    "    (\"ss\", StandardScaler())\n",
    "])"
   ]
  },
  {
   "cell_type": "code",
   "execution_count": 9,
   "metadata": {},
   "outputs": [],
   "source": [
    "model = AdaBoostClassifier(base_estimator=DecisionTreeClassifier(max_depth=10), n_estimators=200)\n",
    "feature_extract_model = Pipeline([\n",
    "    (\"pp\", pre_process),\n",
    "    (\"ada_cls\", model)\n",
    "])\n",
    "cv_res = cross_validate(feature_extract_model, X_train, y_train, groups=subjects, cv=GroupKFold(len(np.unique(subjects))), return_train_score=True)\n",
    "cv_res['test_score'].mean()"
   ]
  }
 ],
 "metadata": {
  "interpreter": {
   "hash": "ab506c54e6c17d8f79536a2d17ae8efc1e1832069b7e1017a1d4a6cb95708c0f"
  },
  "kernelspec": {
   "display_name": "Python 3.7.10 64-bit ('AI': conda)",
   "language": "python",
   "name": "python3"
  },
  "language_info": {
   "codemirror_mode": {
    "name": "ipython",
    "version": 3
   },
   "file_extension": ".py",
   "mimetype": "text/x-python",
   "name": "python",
   "nbconvert_exporter": "python",
   "pygments_lexer": "ipython3",
   "version": "3.8.8"
  },
  "orig_nbformat": 4
 },
 "nbformat": 4,
 "nbformat_minor": 2
}
